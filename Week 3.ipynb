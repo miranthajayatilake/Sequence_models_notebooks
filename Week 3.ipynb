{
 "cells": [
  {
   "cell_type": "markdown",
   "metadata": {},
   "source": [
    "# Week 3"
   ]
  },
  {
   "cell_type": "markdown",
   "metadata": {},
   "source": [
    "### Basic models -  Sequence to sequence\n",
    "\n",
    "<img src=\"imgs/29.jpg\">\n",
    "\n",
    "Also can be used in image captioning\n",
    "Using the embedding fed into an RNN\n",
    "\n",
    "<img src=\"imgs/30.jpg\">"
   ]
  },
  {
   "cell_type": "markdown",
   "metadata": {},
   "source": [
    "### Picking the most likely sentence\n",
    "\n",
    "Machine translation model is very similar to language model. Only input the the second RMM model is an embedding in the translation model\n",
    "\n",
    "<img src=\"imgs/31.jpg\">\n",
    "\n",
    "In predictng the translation, random picking of words is not good. Have to maximise the probability of the output.\n",
    "\n",
    "<img src=\"imgs/32.jpg\">\n",
    "\n",
    "\n",
    "Greedy search doesn't work. "
   ]
  },
  {
   "cell_type": "markdown",
   "metadata": {},
   "source": [
    "### Beam Search\n",
    "\n",
    "Take more that 1 possible following words\n",
    "\n",
    "<img src=\"imgs/33.jpg\">\n",
    "\n",
    "<img src=\"imgs/34.jpg\">"
   ]
  },
  {
   "cell_type": "markdown",
   "metadata": {},
   "source": [
    "### Refinements to Beam Search\n",
    "\n",
    "<img src=\"imgs/35.jpg\">"
   ]
  },
  {
   "cell_type": "markdown",
   "metadata": {},
   "source": [
    "### Error analysis in beam search\n",
    "\n"
   ]
  },
  {
   "cell_type": "markdown",
   "metadata": {},
   "source": [
    "### Blue score\n",
    "\n",
    "To see with reference to a human generated to find the best"
   ]
  },
  {
   "cell_type": "markdown",
   "metadata": {},
   "source": [
    "### Attention Model Intuition\n",
    "\n",
    "Looking at part of the sentence. Works for long sentences.\n",
    "Attention weights\n",
    "\n",
    "\n"
   ]
  },
  {
   "cell_type": "markdown",
   "metadata": {},
   "source": [
    "### Attention Model\n",
    "\n",
    "<img src=\"imgs/36.jpg\">\n",
    "\n",
    "<img src=\"imgs/37.jpg\">"
   ]
  },
  {
   "cell_type": "markdown",
   "metadata": {},
   "source": [
    "## Speech recognition\n",
    "\n"
   ]
  },
  {
   "cell_type": "markdown",
   "metadata": {},
   "source": [
    "### Trigger Word Detection\n",
    "\n",
    "<img src=\"imgs/37.jpg\">"
   ]
  },
  {
   "cell_type": "code",
   "execution_count": null,
   "metadata": {},
   "outputs": [],
   "source": []
  }
 ],
 "metadata": {
  "kernelspec": {
   "display_name": "Python 3",
   "language": "python",
   "name": "python3"
  },
  "language_info": {
   "codemirror_mode": {
    "name": "ipython",
    "version": 3
   },
   "file_extension": ".py",
   "mimetype": "text/x-python",
   "name": "python",
   "nbconvert_exporter": "python",
   "pygments_lexer": "ipython3",
   "version": "3.5.2"
  }
 },
 "nbformat": 4,
 "nbformat_minor": 2
}
