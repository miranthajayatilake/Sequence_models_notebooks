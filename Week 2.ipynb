{
 "cells": [
  {
   "cell_type": "markdown",
   "metadata": {},
   "source": [
    "# Week 2"
   ]
  },
  {
   "cell_type": "markdown",
   "metadata": {},
   "source": [
    "### Word Representation\n",
    "\n",
    "So far we have used one hot vectors\n",
    "\n",
    "- Featurized representations\n",
    "Generalise more on words (eg: 300 features)\n",
    "To represent this can use t-SNE algorithm to convert to 2D\n",
    "\n"
   ]
  },
  {
   "cell_type": "markdown",
   "metadata": {},
   "source": [
    "### Using word embeddings\n",
    "\n",
    "Find similarities between words\n",
    "\n",
    "<img src=\"imgs/17.jpg\">\n",
    "\n"
   ]
  },
  {
   "cell_type": "markdown",
   "metadata": {},
   "source": [
    "### Properties of word embeddings\n",
    "\n",
    "Finding similar words\n",
    "\n",
    "Using vector differences\n",
    "<img src=\"imgs/18.jpg\">\n",
    "\n",
    "Similarity function\n",
    "<img src=\"imgs/19.jpg\">\n",
    "\n",
    "Commonly used - cosine similarity\n",
    "<img src=\"imgs/20.jpg\">\n"
   ]
  },
  {
   "cell_type": "markdown",
   "metadata": {},
   "source": [
    "### Embedding matrix\n",
    "\n",
    "#### Learning embedding matices\n",
    "\n",
    "The featurized vector multiplied by the one hot vector givens the word embedding vector\n",
    "\n",
    "So the learning should be to learn E(Embedding matrix) using gradient decent\n",
    "\n",
    "<imgs src=\"imgs/21.jpg\">\n",
    "\n"
   ]
  },
  {
   "cell_type": "markdown",
   "metadata": {},
   "source": [
    "### Learning word embeddings\n",
    "\n",
    "Algorithms to learn the word embedding\n",
    "\n",
    "<img src=\"imgs/22.jpg\">\n",
    "\n",
    "Formalizing the word embeddings to make them simpler"
   ]
  },
  {
   "cell_type": "markdown",
   "metadata": {},
   "source": [
    "### Word2Vec\n",
    "\n",
    "#### Skip-gram model\n",
    "\n",
    "Choosing randomly ONE word as context\n",
    "Given context word - predict target word\n",
    "\n",
    "<img src=\"imgs/23.jpg\">\n",
    "\n",
    "<img src=\"imgs/24.jpg\">"
   ]
  },
  {
   "cell_type": "markdown",
   "metadata": {},
   "source": [
    "### Negative Sampling\n",
    "\n",
    "Make a table with zero (negative) combinations. Then train\n",
    "First row selected from the sentence\n",
    "\n",
    "<img src=\"imgs/25.jpg\">\n",
    "\n",
    "<img src=\"imgs/26.jpg\">\n",
    "\n",
    "Choosing the negative tagert words - formulas are used"
   ]
  },
  {
   "cell_type": "markdown",
   "metadata": {},
   "source": [
    "### GloVe Algorithm\n",
    "\n",
    "Global vectors for word representation\n",
    "\n",
    "How much a word appears in context of another word\n",
    "\n",
    "<img src=\"imgs/27.jpg\">"
   ]
  },
  {
   "cell_type": "markdown",
   "metadata": {},
   "source": [
    "### Sentiment Classification\n",
    "\n",
    "<img src=\"imgs/28.jpg\">"
   ]
  },
  {
   "cell_type": "markdown",
   "metadata": {},
   "source": [
    "### Debiasing word embeddings\n",
    "\n",
    "Making algorithm not to have discriminative/ bad results over age, gender etc..."
   ]
  },
  {
   "cell_type": "code",
   "execution_count": null,
   "metadata": {},
   "outputs": [],
   "source": []
  }
 ],
 "metadata": {
  "kernelspec": {
   "display_name": "Python 3",
   "language": "python",
   "name": "python3"
  },
  "language_info": {
   "codemirror_mode": {
    "name": "ipython",
    "version": 3
   },
   "file_extension": ".py",
   "mimetype": "text/x-python",
   "name": "python",
   "nbconvert_exporter": "python",
   "pygments_lexer": "ipython3",
   "version": "3.5.2"
  }
 },
 "nbformat": 4,
 "nbformat_minor": 2
}
